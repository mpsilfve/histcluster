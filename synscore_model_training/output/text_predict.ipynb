{
 "cells": [
  {
   "cell_type": "code",
   "execution_count": 3,
   "metadata": {},
   "outputs": [],
   "source": [
    "lines = open(\"/Users/lenayang/Downloads/twitter-genuine-tweets-master_2/output/submission_2023-03-05.csv\", \"rb\").readlines()\n",
    "lines = [line.decode(errors='ignore').strip() for line in lines]\n",
    "\n",
    "lines2 = open(\"/Users/lenayang/Downloads/twitter-genuine-tweets-master_2/data/test.csv\", \"rb\").readlines()\n",
    "lines2 = [line2.decode(errors='ignore').strip() for line2 in lines2]"
   ]
  },
  {
   "cell_type": "code",
   "execution_count": 6,
   "metadata": {},
   "outputs": [
    {
     "name": "stdout",
     "output_type": "stream",
     "text": [
      "23116\n",
      "0.971664647862952\n",
      "23116\n"
     ]
    }
   ],
   "source": [
    "num = 0\n",
    "allnum = 0\n",
    "for i in range(len(lines)):\n",
    "    if i != 0:\n",
    "        \n",
    "        all_items_predict = lines[i].split(',')\n",
    "        all_items_gold = lines2[i].split(',')\n",
    "        \n",
    "        if len(all_items_predict) ==2 and len(all_items_gold) == 2:\n",
    "            allnum = allnum+1\n",
    "            if int(all_items_predict[1]) == int(all_items_gold[1]):\n",
    "                num = num +1\n",
    "        \n",
    "print(len(lines)-1)\n",
    "print(num/allnum)\n",
    "print(allnum)"
   ]
  },
  {
   "cell_type": "code",
   "execution_count": null,
   "metadata": {},
   "outputs": [],
   "source": []
  },
  {
   "cell_type": "code",
   "execution_count": null,
   "metadata": {},
   "outputs": [],
   "source": []
  }
 ],
 "metadata": {
  "kernelspec": {
   "display_name": "Python 3",
   "language": "python",
   "name": "python3"
  },
  "language_info": {
   "codemirror_mode": {
    "name": "ipython",
    "version": 3
   },
   "file_extension": ".py",
   "mimetype": "text/x-python",
   "name": "python",
   "nbconvert_exporter": "python",
   "pygments_lexer": "ipython3",
   "version": "3.7.6"
  }
 },
 "nbformat": 4,
 "nbformat_minor": 4
}
